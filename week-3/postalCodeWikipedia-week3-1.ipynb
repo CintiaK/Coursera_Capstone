{
 "cells": [
  {
   "cell_type": "markdown",
   "metadata": {},
   "source": [
    "# COURSERA CAPSTONE PROJECT\n"
   ]
  },
  {
   "cell_type": "markdown",
   "metadata": {},
   "source": [
    "This notebook will be mainly used for the Capstone Project"
   ]
  },
  {
   "cell_type": "code",
   "execution_count": 1,
   "metadata": {},
   "outputs": [
    {
     "name": "stdout",
     "output_type": "stream",
     "text": [
      "Hello Capstone Project Course!\n"
     ]
    }
   ],
   "source": [
    "import pandas as pd\n",
    "import numpy as np\n",
    "\n",
    "print(\"Hello Capstone Project Course!\")"
   ]
  },
  {
   "cell_type": "markdown",
   "metadata": {},
   "source": [
    "Install Beautifull Soup version 4"
   ]
  },
  {
   "cell_type": "code",
   "execution_count": 2,
   "metadata": {},
   "outputs": [
    {
     "name": "stdout",
     "output_type": "stream",
     "text": [
      "Solving environment: done\n",
      "\n",
      "## Package Plan ##\n",
      "\n",
      "  environment location: /home/jupyterlab/conda\n",
      "\n",
      "  added / updated specs: \n",
      "    - beautifulsoup4\n",
      "\n",
      "\n",
      "The following packages will be downloaded:\n",
      "\n",
      "    package                    |            build\n",
      "    ---------------------------|-----------------\n",
      "    ca-certificates-2019.1.23  |                0         126 KB  anaconda\n",
      "    conda-4.6.2                |           py36_0         1.6 MB  anaconda\n",
      "    libssh2-1.8.0              |       h1ba5d50_4         233 KB  anaconda\n",
      "    libcurl-7.63.0             |    h20c2e04_1000         550 KB  anaconda\n",
      "    pycurl-7.43.0.2            |   py36h1ba5d50_0         185 KB  anaconda\n",
      "    soupsieve-1.7.1            |           py36_0          50 KB  anaconda\n",
      "    qt-5.9.7                   |       h5867ecd_1        85.9 MB  anaconda\n",
      "    krb5-1.16.1                |       h173b8e3_7         1.4 MB  anaconda\n",
      "    beautifulsoup4-4.7.1       |           py36_1         143 KB  anaconda\n",
      "    cryptography-2.4.2         |   py36h1ba5d50_0         618 KB  anaconda\n",
      "    certifi-2018.11.29         |           py36_0         146 KB  anaconda\n",
      "    curl-7.63.0                |    hbc83047_1000         145 KB  anaconda\n",
      "    python-3.6.8               |       h0371630_0        34.4 MB  anaconda\n",
      "    libarchive-3.3.3           |       h5d8350f_5         1.5 MB  anaconda\n",
      "    ------------------------------------------------------------\n",
      "                                           Total:       127.0 MB\n",
      "\n",
      "The following NEW packages will be INSTALLED:\n",
      "\n",
      "    soupsieve:       1.7.1-py36_0             anaconda   \n",
      "\n",
      "The following packages will be UPDATED:\n",
      "\n",
      "    beautifulsoup4:  4.6.3-py36_0             anaconda    --> 4.7.1-py36_1            anaconda\n",
      "    ca-certificates: 2018.11.29-ha4d7672_0    conda-forge --> 2019.1.23-0             anaconda\n",
      "    conda:           4.5.12-py36_1000         conda-forge --> 4.6.2-py36_0            anaconda\n",
      "    cryptography:    2.3.1-py36hb7f436b_1000  conda-forge --> 2.4.2-py36h1ba5d50_0    anaconda\n",
      "    curl:            7.63.0-h646f8bb_1000     conda-forge --> 7.63.0-hbc83047_1000    anaconda\n",
      "    grpcio:          1.16.0-py36h4f00d22_1000 conda-forge --> 1.16.1-py36hf8bcb03_1   anaconda\n",
      "    libcurl:         7.63.0-h01ee5af_1000     conda-forge --> 7.63.0-h20c2e04_1000    anaconda\n",
      "    openssl:         1.0.2p-h14c3975_1002     conda-forge --> 1.1.1-h7b6447c_0        anaconda\n",
      "    pycurl:          7.43.0.2-py36hb7f436b_0              --> 7.43.0.2-py36h1ba5d50_0 anaconda\n",
      "    python:          3.6.6-hd21baee_1003      conda-forge --> 3.6.8-h0371630_0        anaconda\n",
      "    qt:              5.9.6-h8703b6f_2                     --> 5.9.7-h5867ecd_1        anaconda\n",
      "\n",
      "The following packages will be DOWNGRADED:\n",
      "\n",
      "    certifi:         2018.11.29-py36_1000     conda-forge --> 2018.11.29-py36_0       anaconda\n",
      "    krb5:            1.16.2-hc83ff2d_1000     conda-forge --> 1.16.1-h173b8e3_7       anaconda\n",
      "    libarchive:      3.3.3-ha149a29_1000      conda-forge --> 3.3.3-h5d8350f_5        anaconda\n",
      "    libssh2:         1.8.0-h1ad7b7a_1003      conda-forge --> 1.8.0-h1ba5d50_4        anaconda\n",
      "\n",
      "\n",
      "Downloading and Extracting Packages\n",
      "ca-certificates-2019 | 126 KB    | ##################################### | 100% \n",
      "conda-4.6.2          | 1.6 MB    | ##################################### | 100% \n",
      "libssh2-1.8.0        | 233 KB    | ##################################### | 100% \n",
      "libcurl-7.63.0       | 550 KB    | ##################################### | 100% \n",
      "pycurl-7.43.0.2      | 185 KB    | ##################################### | 100% \n",
      "soupsieve-1.7.1      | 50 KB     | ##################################### | 100% \n",
      "qt-5.9.7             | 85.9 MB   | ##################################### | 100% \n",
      "krb5-1.16.1          | 1.4 MB    | ##################################### | 100% \n",
      "beautifulsoup4-4.7.1 | 143 KB    | ##################################### | 100% \n",
      "cryptography-2.4.2   | 618 KB    | ##################################### | 100% \n",
      "certifi-2018.11.29   | 146 KB    | ##################################### | 100% \n",
      "curl-7.63.0          | 145 KB    | ##################################### | 100% \n",
      "python-3.6.8         | 34.4 MB   | ##################################### | 100% \n",
      "libarchive-3.3.3     | 1.5 MB    | ##################################### | 100% \n",
      "Preparing transaction: done\n",
      "Verifying transaction: done\n",
      "Executing transaction: done\n"
     ]
    }
   ],
   "source": [
    "!conda install -c anaconda beautifulsoup4 --yes"
   ]
  },
  {
   "cell_type": "markdown",
   "metadata": {},
   "source": [
    "Import Beautifull Soup and get Wikipedia page"
   ]
  },
  {
   "cell_type": "code",
   "execution_count": 2,
   "metadata": {},
   "outputs": [],
   "source": [
    "import requests\n",
    "from bs4 import BeautifulSoup\n",
    "\n",
    "page = requests.get('https://en.wikipedia.org/wiki/List_of_postal_codes_of_Canada:_M')\n"
   ]
  },
  {
   "cell_type": "markdown",
   "metadata": {},
   "source": [
    "Create dataframe"
   ]
  },
  {
   "cell_type": "code",
   "execution_count": 3,
   "metadata": {},
   "outputs": [
    {
     "name": "stdout",
     "output_type": "stream",
     "text": [
      "Postal Code Unique count  100\n"
     ]
    },
    {
     "name": "stderr",
     "output_type": "stream",
     "text": [
      "/home/jupyterlab/conda/lib/python3.6/site-packages/ipykernel_launcher.py:29: FutureWarning: using a dict on a Series for aggregation\n",
      "is deprecated and will be removed in a future version\n"
     ]
    },
    {
     "data": {
      "text/html": [
       "<div>\n",
       "<style scoped>\n",
       "    .dataframe tbody tr th:only-of-type {\n",
       "        vertical-align: middle;\n",
       "    }\n",
       "\n",
       "    .dataframe tbody tr th {\n",
       "        vertical-align: top;\n",
       "    }\n",
       "\n",
       "    .dataframe thead th {\n",
       "        text-align: right;\n",
       "    }\n",
       "</style>\n",
       "<table border=\"1\" class=\"dataframe\">\n",
       "  <thead>\n",
       "    <tr style=\"text-align: right;\">\n",
       "      <th></th>\n",
       "      <th>PostalCode</th>\n",
       "      <th>Borough</th>\n",
       "      <th>Neighborhood</th>\n",
       "    </tr>\n",
       "  </thead>\n",
       "  <tbody>\n",
       "    <tr>\n",
       "      <th>0</th>\n",
       "      <td>M1B</td>\n",
       "      <td>Scarborough</td>\n",
       "      <td>[Rouge, Malvern]</td>\n",
       "    </tr>\n",
       "    <tr>\n",
       "      <th>1</th>\n",
       "      <td>M1C</td>\n",
       "      <td>Scarborough</td>\n",
       "      <td>[Highland Creek, Rouge Hill, Port Union]</td>\n",
       "    </tr>\n",
       "    <tr>\n",
       "      <th>2</th>\n",
       "      <td>M1E</td>\n",
       "      <td>Scarborough</td>\n",
       "      <td>[Scarborough, Morningside, West Hill]</td>\n",
       "    </tr>\n",
       "    <tr>\n",
       "      <th>3</th>\n",
       "      <td>M1G</td>\n",
       "      <td>Scarborough</td>\n",
       "      <td>[Woburn]</td>\n",
       "    </tr>\n",
       "    <tr>\n",
       "      <th>4</th>\n",
       "      <td>M1H</td>\n",
       "      <td>Scarborough</td>\n",
       "      <td>[Cedarbrae]</td>\n",
       "    </tr>\n",
       "  </tbody>\n",
       "</table>\n",
       "</div>"
      ],
      "text/plain": [
       "  PostalCode      Borough                              Neighborhood\n",
       "0        M1B  Scarborough                          [Rouge, Malvern]\n",
       "1        M1C  Scarborough  [Highland Creek, Rouge Hill, Port Union]\n",
       "2        M1E  Scarborough     [Scarborough, Morningside, West Hill]\n",
       "3        M1G  Scarborough                                  [Woburn]\n",
       "4        M1H  Scarborough                               [Cedarbrae]"
      ]
     },
     "execution_count": 3,
     "metadata": {},
     "output_type": "execute_result"
    }
   ],
   "source": [
    "# define the dataframe columns\n",
    "column_names = ['PostalCode', 'Borough', 'Neighborhood']\n",
    "# instantiate the dataframe\n",
    "postalCodes = pd.DataFrame(columns=column_names)\n",
    "\n",
    "soup = BeautifulSoup(page.text, 'html.parser')\n",
    "soup.prettify()\n",
    "\n",
    "trs = soup.findAll('tr')\n",
    "\n",
    "for tr in trs:\n",
    "    tds = tr.findAll('td')\n",
    "    if len(tds) == 3:\n",
    "        col1= tds[0].contents[0]\n",
    "        col2 = tds[1].findAll(\"a\", attrs={'title':True})\n",
    "        if len(col2) > 0:\n",
    "            col2=col2[0].text\n",
    "            col3 = tds[2].findAll(\"a\", attrs={'title': True})\n",
    "            if len(col3) == 0:\n",
    "                col3 = col2\n",
    "            else:\n",
    "                col3=col3[0].text\n",
    "            postalCodes = postalCodes.append({'PostalCode': col1, 'Borough': col2, 'Neighborhood':col3}, ignore_index= True)\n",
    "\n",
    "# print Postal Code Unique count to compare to final dataframe shape\n",
    "print('Postal Code Unique count ', len(postalCodes['PostalCode'].unique()))\n",
    "            \n",
    "df = postalCodes.groupby(['PostalCode', 'Borough']).Neighborhood\n",
    "postalCodes = df.agg(dict(Neighborhood=lambda x: list(x), number='count'))\n",
    "postalCodes.reset_index(inplace=True)\n",
    "postalCodes.drop('number', 1, inplace=True)\n",
    "postalCodes.head()"
   ]
  },
  {
   "cell_type": "markdown",
   "metadata": {},
   "source": [
    "Print dataframe shape as asked in the task"
   ]
  },
  {
   "cell_type": "code",
   "execution_count": 4,
   "metadata": {},
   "outputs": [
    {
     "data": {
      "text/plain": [
       "(100, 3)"
      ]
     },
     "execution_count": 4,
     "metadata": {},
     "output_type": "execute_result"
    }
   ],
   "source": [
    "postalCodes.shape"
   ]
  }
 ],
 "metadata": {
  "kernelspec": {
   "display_name": "Python 3",
   "language": "python",
   "name": "python3"
  },
  "language_info": {
   "codemirror_mode": {
    "name": "ipython",
    "version": 3
   },
   "file_extension": ".py",
   "mimetype": "text/x-python",
   "name": "python",
   "nbconvert_exporter": "python",
   "pygments_lexer": "ipython3",
   "version": "3.6.8"
  }
 },
 "nbformat": 4,
 "nbformat_minor": 2
}
